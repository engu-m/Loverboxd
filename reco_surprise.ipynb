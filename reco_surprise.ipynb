{
 "cells": [
  {
   "cell_type": "markdown",
   "metadata": {},
   "source": [
    "# Letterboxd movie recommender"
   ]
  },
  {
   "cell_type": "markdown",
   "metadata": {},
   "source": [
    "Read ``README.md`` to download the dataset and export your Letterboxd data"
   ]
  },
  {
   "cell_type": "code",
   "execution_count": 1,
   "metadata": {},
   "outputs": [],
   "source": [
    "import pandas as pd\n",
    "import matplotlib.pyplot as plt\n",
    "import numpy as np\n",
    "\n",
    "from unidecode import unidecode\n",
    "\n",
    "try:\n",
    "    from qbstyles import mpl_style\n",
    "\n",
    "    mpl_style(dark=True)\n",
    "    # plt.style.use('https://github.com/dhaitz/matplotlib-stylesheets/raw/master/pitayasmoothie-dark.mplstyle')\n",
    "except:\n",
    "    plt.style.use(\"dark_background\")\n",
    "\n",
    "from IPython.display import clear_output\n",
    "\n",
    "clear_output()\n",
    "\n",
    "from surprise import BaselineOnly, Dataset, Reader\n",
    "from surprise.prediction_algorithms import BaselineOnly, KNNWithMeans, CoClustering, SVD, SVDpp\n",
    "from surprise.model_selection import train_test_split"
   ]
  },
  {
   "cell_type": "code",
   "execution_count": 2,
   "metadata": {},
   "outputs": [],
   "source": [
    "username= \"placeholder_username\"\n",
    "ratings = pd.read_csv(\"letterboxd_data/ratings_export.csv\", usecols=[\"movie_id\",\"rating_val\",\"user_id\"], na_filter=False)\n",
    "your_ratings = pd.read_csv(f\"user_data/ratings.csv\", usecols=[\"Name\", \"Year\", \"Rating\"])\n",
    "movie_data = pd.read_csv(\"letterboxd_data/movie_data.csv\", lineterminator=\"\\n\",usecols = [\"genres\",\"image_url\",\"movie_id\",\"movie_title\",\"popularity\",\"production_countries\",\"runtime\",\"spoken_languages\",\"tmdb_id\",\"vote_average\",\"vote_count\",\"year_released\"], na_filter=False)"
   ]
  },
  {
   "cell_type": "code",
   "execution_count": 3,
   "metadata": {},
   "outputs": [],
   "source": [
    "# Replace movie Title + Year by true movie id in your ratings\n",
    "movie_data = movie_data.loc[~movie_data[\"year_released\"].isin([\"\", \"null\"])]\n",
    "movie_data[\"year_released\"] = movie_data[\"year_released\"].astype(np.int64)\n",
    "your_ratings_merged = pd.merge(\n",
    "    your_ratings,\n",
    "    movie_data[[\"movie_id\", \"movie_title\", \"year_released\"]],\n",
    "    how=\"left\",\n",
    "    left_on=[\"Name\", \"Year\"],\n",
    "    right_on=[\"movie_title\", \"year_released\"],\n",
    ")\n",
    "your_ratings_merged.drop(columns=[\"Name\", \"Year\", \"movie_title\", \"year_released\"], inplace=True)\n",
    "your_ratings_merged.dropna(axis=0, subset=[\"movie_id\"], inplace=True)\n",
    "your_ratings_merged = your_ratings_merged.loc[\n",
    "    ~your_ratings_merged[\"movie_id\"].str.startswith(\"film:\")\n",
    "]"
   ]
  },
  {
   "cell_type": "code",
   "execution_count": 4,
   "metadata": {},
   "outputs": [],
   "source": [
    "# scale rating (0.5 to 5) -> (1 to 10)\n",
    "your_ratings_merged[\"rating_val\"] = 2 * your_ratings_merged[\"Rating\"]\n",
    "your_ratings_merged.drop(\"Rating\", axis=1, inplace=True)\n",
    "# add column with your user id\n",
    "your_ratings_merged[\"user_id\"] = username"
   ]
  },
  {
   "cell_type": "markdown",
   "metadata": {},
   "source": [
    "## Clean ratings dataframe from obscure movies"
   ]
  },
  {
   "cell_type": "code",
   "execution_count": 5,
   "metadata": {},
   "outputs": [],
   "source": [
    "nb_ratings_by_movie = np.unique(ratings[\"movie_id\"], return_counts=True)\n",
    "series_nb_ratings_by_movie = pd.Series(*nb_ratings_by_movie[::-1])"
   ]
  },
  {
   "cell_type": "code",
   "execution_count": 6,
   "metadata": {},
   "outputs": [],
   "source": [
    "min_nb_ratings_by_movie = 100\n",
    "# this discards about 94% of movies, which are rated by less than 100 of our 7500 users\n",
    "# this represents about 2 millions ratings discarded, out of 11 millions\n",
    "\n",
    "movies_with_enough_ratings = series_nb_ratings_by_movie[\n",
    "    series_nb_ratings_by_movie > min_nb_ratings_by_movie\n",
    "].index\n",
    "ratings = ratings.loc[ratings[\"movie_id\"].isin(movies_with_enough_ratings)]"
   ]
  },
  {
   "cell_type": "markdown",
   "metadata": {},
   "source": [
    "## Clean ratings dataframe from obscure users and select sample from \"super-raters\""
   ]
  },
  {
   "cell_type": "markdown",
   "metadata": {},
   "source": [
    "Design choice: I could reduce the dataset by either selecting users with many movies rated or taking a random sample of all ratings. I see two downsides here:\n",
    "1) The first approach lets only users with a lot of ratings which prevents the user ratings to be close from any other user, as there may be a huge discrepancy between the number of movies rated by the user and the dataset users\n",
    "2) The second approach is tough on users with very few ratings as well\n",
    "\n",
    "So to avoid this, I divide users in three categories:\n",
    "- obscure users: those with < 50 ratings. They are discarded\n",
    "- standard users: those 50 < ratings < 300. They are left unchanged\n",
    "- super users: those with ratings > 300. I select a random sample from their ratings until the sum of ratings with those of standard users is below a given threshold (say 300000 ratings in total)"
   ]
  },
  {
   "cell_type": "code",
   "execution_count": 7,
   "metadata": {},
   "outputs": [],
   "source": [
    "nb_ratings, users = np.unique(ratings[\"user_id\"], return_counts=True)\n",
    "nb_ratings_by_user = pd.Series(users, nb_ratings).sort_values()"
   ]
  },
  {
   "cell_type": "code",
   "execution_count": 8,
   "metadata": {},
   "outputs": [],
   "source": [
    "min_nb_ratings_by_user = 50\n",
    "max_nb_ratings_by_user = 200\n",
    "\n",
    "standard_users = nb_ratings_by_user.loc[\n",
    "    np.logical_and(\n",
    "        min_nb_ratings_by_user <= nb_ratings_by_user, nb_ratings_by_user < max_nb_ratings_by_user\n",
    "    )\n",
    "].index\n",
    "super_users = nb_ratings_by_user.loc[nb_ratings_by_user >= max_nb_ratings_by_user].index\n",
    "\n",
    "ratings_standard_users = ratings.loc[ratings[\"user_id\"].isin(standard_users)]\n",
    "ratings_super_users = ratings.loc[ratings[\"user_id\"].isin(super_users)]"
   ]
  },
  {
   "cell_type": "code",
   "execution_count": 9,
   "metadata": {},
   "outputs": [],
   "source": [
    "total_ratings_threshold = 350000\n",
    "\n",
    "current_nb_ratings = len(ratings_standard_users)\n",
    "ratings_super_users_subset = ratings_super_users.sample(\n",
    "    total_ratings_threshold - current_nb_ratings\n",
    ")"
   ]
  },
  {
   "cell_type": "code",
   "execution_count": 10,
   "metadata": {},
   "outputs": [],
   "source": [
    "ratings = pd.concat([ratings_standard_users, ratings_super_users_subset], ignore_index=True)"
   ]
  },
  {
   "cell_type": "code",
   "execution_count": 11,
   "metadata": {},
   "outputs": [],
   "source": [
    "del ratings_super_users\n",
    "del ratings_super_users_subset\n",
    "del ratings_standard_users"
   ]
  },
  {
   "cell_type": "markdown",
   "metadata": {},
   "source": [
    "## Add user's ratings to full ratings dataframe"
   ]
  },
  {
   "cell_type": "code",
   "execution_count": 12,
   "metadata": {},
   "outputs": [],
   "source": [
    "ratings = pd.concat([ratings, your_ratings_merged], axis=0, ignore_index=True)"
   ]
  },
  {
   "cell_type": "markdown",
   "metadata": {},
   "source": [
    "## Load dataset"
   ]
  },
  {
   "cell_type": "code",
   "execution_count": 13,
   "metadata": {},
   "outputs": [],
   "source": [
    "reader = Reader(rating_scale=(1, 10))"
   ]
  },
  {
   "cell_type": "code",
   "execution_count": 14,
   "metadata": {},
   "outputs": [],
   "source": [
    "data = Dataset.load_from_df(ratings[[\"user_id\", \"movie_id\", \"rating_val\"]], reader)"
   ]
  },
  {
   "cell_type": "markdown",
   "metadata": {},
   "source": [
    "## Train and test algorithms"
   ]
  },
  {
   "cell_type": "code",
   "execution_count": 15,
   "metadata": {},
   "outputs": [],
   "source": [
    "trainset = data.build_full_trainset()"
   ]
  },
  {
   "cell_type": "code",
   "execution_count": 16,
   "metadata": {},
   "outputs": [],
   "source": [
    "algo_dict = {\n",
    "    \"baseline\": BaselineOnly(),\n",
    "    \"KNN with means (K=10)\": KNNWithMeans(k=10, sim_options={\"name\": \"pearson\", \"min_support\": 3}),\n",
    "    \"Co-clustering\": CoClustering(),\n",
    "    \"SVD\": SVD(),\n",
    "    \"SVD++\": SVDpp(),\n",
    "}"
   ]
  },
  {
   "cell_type": "code",
   "execution_count": 17,
   "metadata": {},
   "outputs": [],
   "source": [
    "all_movies = ratings[\"movie_id\"].unique()\n",
    "seen_movies = ratings.loc[ratings[\"user_id\"] == username][\"movie_id\"].unique()\n",
    "unseen_movies = list(set(all_movies) - set(seen_movies))\n",
    "test_df = pd.DataFrame({\"movie_id\": unseen_movies, \"rating\": 0.0, \"user_id\": username})\n",
    "test_processed = Dataset.load_from_df(\n",
    "    test_df[[\"user_id\", \"movie_id\", \"rating\"]], reader\n",
    ")  # use load_from_df to convert the test dataframe to the Dataset format required by step 3\n",
    "_, test = train_test_split(\n",
    "    test_processed, test_size=1.0, shuffle=False\n",
    ")  # use train_test_split to convert test_processed to list of tuples required in step 4"
   ]
  },
  {
   "cell_type": "code",
   "execution_count": 18,
   "metadata": {},
   "outputs": [
    {
     "name": "stdout",
     "output_type": "stream",
     "text": [
      "\n",
      "Training algo baseline...\n",
      "Estimating biases using als...\n",
      "\n",
      "Training algo KNN with means (K=10)...\n",
      "Computing the pearson similarity matrix...\n",
      "Done computing similarity matrix.\n",
      "\n",
      "Training algo Co-clustering...\n",
      "\n",
      "Training algo SVD...\n",
      "\n",
      "Training algo SVD++...\n"
     ]
    }
   ],
   "source": [
    "predictions_full = pd.DataFrame(index=unseen_movies)\n",
    "\n",
    "for algo_name, algo in algo_dict.items():\n",
    "    print(f\"\\nTraining algo {algo_name}...\")\n",
    "    algo.fit(trainset)\n",
    "    algo_predictions = algo.test(test)\n",
    "    algo_movies, prediction_values = zip(*[(i.iid, i.est) for i in algo_predictions])\n",
    "    predictions_full[f\"prediction {algo_name}\"] = pd.Series(prediction_values, index=algo_movies)"
   ]
  },
  {
   "cell_type": "code",
   "execution_count": 19,
   "metadata": {},
   "outputs": [
    {
     "data": {
      "text/plain": [
       "<matplotlib.legend.Legend at 0x2580d06f310>"
      ]
     },
     "execution_count": 19,
     "metadata": {},
     "output_type": "execute_result"
    },
    {
     "data": {
      "image/png": "[encoded data removed]",
      "text/plain": [
       "<Figure size 1000x600 with 1 Axes>"
      ]
     },
     "metadata": {},
     "output_type": "display_data"
    }
   ],
   "source": [
    "plt.figure(figsize=(10, 6))\n",
    "for col in predictions_full.columns:\n",
    "    predictions_full[col].hist(label=col, alpha=0.5, density=True, bins=25, edgecolor=\"k\")\n",
    "\n",
    "\n",
    "your_ratings_merged[\"rating_val\"].hist(\n",
    "    density=True, alpha=0.6, label=\"Your current ratings\", bins=np.arange(0.5, 11.5), edgecolor=\"r\"\n",
    ")\n",
    "\n",
    "plt.xticks(range(11))\n",
    "plt.legend()"
   ]
  },
  {
   "cell_type": "code",
   "execution_count": 20,
   "metadata": {},
   "outputs": [],
   "source": [
    "predictions_with_metadata = pd.merge(\n",
    "    predictions_full, movie_data, left_index=True, right_on=\"movie_id\"\n",
    ").reset_index()"
   ]
  },
  {
   "cell_type": "code",
   "execution_count": 21,
   "metadata": {},
   "outputs": [],
   "source": [
    "n_best_movies = 100"
   ]
  },
  {
   "cell_type": "code",
   "execution_count": 22,
   "metadata": {},
   "outputs": [],
   "source": [
    "for algo_name in algo_dict:\n",
    "    best_predictions = predictions_with_metadata.sort_values(\n",
    "        f\"prediction {algo_name}\", ascending=False\n",
    "    )\n",
    "    best_predictions = best_predictions.iloc[:n_best_movies]\n",
    "    # Uncomment following line to get only relevant columns\n",
    "    # best_predictions = best_predictions[[\"tmdb_id\", \"movie_title\", \"year_released\"]]\n",
    "\n",
    "    best_predictions.rename(\n",
    "        columns={\"tmdb_id\": \"tmdbID\", \"movie_title\": \"Title\", \"year_released\": \"Year\"}, inplace=True\n",
    "    )\n",
    "\n",
    "\n",
    "    best_predictions.to_csv(f\"recommendations {unidecode(algo_name)}.csv\", index=False)"
   ]
  }
 ],
 "metadata": {
  "kernelspec": {
   "display_name": "venv",
   "language": "python",
   "name": "python3"
  },
  "language_info": {
   "codemirror_mode": {
    "name": "ipython",
    "version": 3
   },
   "file_extension": ".py",
   "mimetype": "text/x-python",
   "name": "python",
   "nbconvert_exporter": "python",
   "pygments_lexer": "ipython3",
   "version": "3.9.13"
  }
 },
 "nbformat": 4,
 "nbformat_minor": 2
}
