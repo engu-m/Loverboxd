{
 "cells": [
  {
   "cell_type": "markdown",
   "metadata": {},
   "source": [
    "# Letterboxd movie recommender from scratch"
   ]
  },
  {
   "cell_type": "markdown",
   "metadata": {},
   "source": [
    "Following https://realpython.com/build-recommendation-engine-collaborative-filtering/"
   ]
  },
  {
   "cell_type": "markdown",
   "metadata": {},
   "source": [
    "## Imports"
   ]
  },
  {
   "cell_type": "code",
   "execution_count": 1,
   "metadata": {},
   "outputs": [],
   "source": [
    "import pandas as pd\n",
    "import re\n",
    "import matplotlib.pyplot as plt\n",
    "import numpy as np\n",
    "from unidecode import unidecode\n",
    "try :\n",
    "    from qbstyles import mpl_style\n",
    "    mpl_style(dark=True)\n",
    "    # plt.style.use('https://github.com/dhaitz/matplotlib-stylesheets/raw/master/pitayasmoothie-dark.mplstyle')\n",
    "except :\n",
    "    plt.style.use(\"dark_background\")\n",
    "\n",
    "\n",
    "from IPython.display import clear_output\n",
    "clear_output()"
   ]
  },
  {
   "cell_type": "code",
   "execution_count": 30,
   "metadata": {},
   "outputs": [],
   "source": [
    "ratings = pd.read_csv(\n",
    "    \"letterboxd_data/ratings_export.csv\",\n",
    "    usecols=[\"movie_id\", \"rating_val\", \"user_id\"],\n",
    "    dtype=\"str\",\n",
    "    na_filter=False,\n",
    ")"
   ]
  },
  {
   "cell_type": "markdown",
   "metadata": {},
   "source": [
    "## Basic stats"
   ]
  },
  {
   "cell_type": "code",
   "execution_count": 3,
   "metadata": {},
   "outputs": [
    {
     "name": "stdout",
     "output_type": "stream",
     "text": [
      "There are 286072 unique movies watched in the database\n",
      "There are 7477 unique users in the database\n"
     ]
    }
   ],
   "source": [
    "print(f\"There are {ratings['movie_id'].nunique()} unique movies watched in the database\")\n",
    "print(f\"There are {ratings['user_id'].nunique()} unique users in the database\")"
   ]
  },
  {
   "cell_type": "code",
   "execution_count": 31,
   "metadata": {},
   "outputs": [
    {
     "data": {
      "text/plain": [
       "([<matplotlib.axis.XTick at 0x221383bc1f0>,\n",
       "  <matplotlib.axis.XTick at 0x221383bc520>,\n",
       "  <matplotlib.axis.XTick at 0x22137d623a0>,\n",
       "  <matplotlib.axis.XTick at 0x22137d76c10>,\n",
       "  <matplotlib.axis.XTick at 0x22137d8fd00>,\n",
       "  <matplotlib.axis.XTick at 0x22137d9a7f0>,\n",
       "  <matplotlib.axis.XTick at 0x22138412070>,\n",
       "  <matplotlib.axis.XTick at 0x22138e08460>,\n",
       "  <matplotlib.axis.XTick at 0x22138e08c40>,\n",
       "  <matplotlib.axis.XTick at 0x22138e0e730>,\n",
       "  <matplotlib.axis.XTick at 0x22138e15220>],\n",
       " [Text(0, 0, '0'),\n",
       "  Text(1, 0, '1'),\n",
       "  Text(2, 0, '2'),\n",
       "  Text(3, 0, '3'),\n",
       "  Text(4, 0, '4'),\n",
       "  Text(5, 0, '5'),\n",
       "  Text(6, 0, '6'),\n",
       "  Text(7, 0, '7'),\n",
       "  Text(8, 0, '8'),\n",
       "  Text(9, 0, '9'),\n",
       "  Text(10, 0, '10')])"
      ]
     },
     "execution_count": 31,
     "metadata": {},
     "output_type": "execute_result"
    },
    {
     "data": {
      "image/png": "[encoded data removed]",
      "text/plain": [
       "<Figure size 640x480 with 1 Axes>"
      ]
     },
     "metadata": {},
     "output_type": "display_data"
    }
   ],
   "source": [
    "ratings[\"rating_val\"].astype(\"int\").hist(bins=[x + 0.5 for x in range(11)])\n",
    "plt.title(f\"Distribution of all (11 million) ratings\")\n",
    "plt.xticks(list(range(11)))"
   ]
  },
  {
   "cell_type": "code",
   "execution_count": 5,
   "metadata": {},
   "outputs": [
    {
     "data": {
      "text/plain": [
       "jukamo               1\n",
       "lilfilm              1\n",
       "masonmcenery         1\n",
       "andrijana            1\n",
       "dustykramkram        1\n",
       "                 ...  \n",
       "imzzzy           21564\n",
       "loureviews       23654\n",
       "ghettominibar    26052\n",
       "punq             32271\n",
       "acervofilmico    88289\n",
       "Length: 7477, dtype: int64"
      ]
     },
     "execution_count": 5,
     "metadata": {},
     "output_type": "execute_result"
    }
   ],
   "source": [
    "nb_ratings, users = np.unique(ratings[\"user_id\"], return_counts=True)\n",
    "nb_movies_per_user = pd.Series(users, nb_ratings).sort_values()\n",
    "nb_movies_per_user"
   ]
  },
  {
   "cell_type": "markdown",
   "metadata": {},
   "source": [
    "The user with the most movies rated is acervofilmico with 88289(!) movies rated."
   ]
  },
  {
   "cell_type": "code",
   "execution_count": 6,
   "metadata": {},
   "outputs": [],
   "source": [
    "nb_ratings_by_movie = np.unique(ratings[\"movie_id\"], return_counts=True)\n",
    "series_nb_ratings_by_movie = pd.Series(*nb_ratings_by_movie[::-1])"
   ]
  },
  {
   "cell_type": "markdown",
   "metadata": {},
   "source": [
    "## Compute my movies' ids"
   ]
  },
  {
   "cell_type": "code",
   "execution_count": 7,
   "metadata": {},
   "outputs": [],
   "source": [
    "my_ratings = pd.read_csv(\"user_data/ratings.csv\", usecols=[\"Name\", \"Year\", \"Rating\"])\n",
    "my_ratings[\"Rating\"] = 2*my_ratings[\"Rating\"]\n",
    "movie_name_fmt = my_ratings[\"Name\"].apply(lambda x : re.sub(r\"[^\\da-zA-Z-]\", \"\", unidecode(x).lower().replace(\" \",\"-\")))\n",
    "movie_year_fmt = my_ratings[\"Year\"].astype(\"str\")\n",
    "movie_id_fmt = movie_name_fmt + \"-\" + movie_year_fmt\n",
    "my_ratings[\"movie_name_fmt\"] = movie_name_fmt.str.replace(r\"-+\",\"-\", regex=True)\n",
    "my_ratings[\"movie_id_full\"] = movie_id_fmt.str.replace(r\"-+\",\"-\", regex=True)\n",
    "all_movie_ids = ratings[\"movie_id\"].unique()\n",
    "my_ratings[\"movie_id_short_is_official\"] = my_ratings[\"movie_name_fmt\"].isin(all_movie_ids)\n",
    "my_ratings[\"movie_id_full_is_official\"] = my_ratings[\"movie_id_full\"].isin(all_movie_ids)"
   ]
  },
  {
   "cell_type": "code",
   "execution_count": 8,
   "metadata": {},
   "outputs": [
    {
     "data": {
      "text/plain": [
       "[]"
      ]
     },
     "execution_count": 8,
     "metadata": {},
     "output_type": "execute_result"
    }
   ],
   "source": [
    "# movies with ambiguity because of duplicate: several movies with the same name at different (or same) years\n",
    "duplicate_ids = my_ratings[(my_ratings[\"movie_id_full_is_official\"] * my_ratings[\"movie_id_short_is_official\"])]\n",
    "my_ratings[\"movie_id\"] = np.where(my_ratings[\"movie_id_full_is_official\"], my_ratings[\"movie_id_full\"], my_ratings[\"movie_name_fmt\"])\n",
    "movie_duplicated = [movie_id for movie_id in all_movie_ids if any(re.match(rf\"^{x}(-\\d+)*$\", movie_id) for x in duplicate_ids[\"movie_name_fmt\"])]\n",
    "sorted(movie_duplicated)"
   ]
  },
  {
   "cell_type": "code",
   "execution_count": 9,
   "metadata": {},
   "outputs": [
    {
     "data": {
      "text/html": [
       "<div>\n",
       "<style scoped>\n",
       "    .dataframe tbody tr th:only-of-type {\n",
       "        vertical-align: middle;\n",
       "    }\n",
       "\n",
       "    .dataframe tbody tr th {\n",
       "        vertical-align: top;\n",
       "    }\n",
       "\n",
       "    .dataframe thead th {\n",
       "        text-align: right;\n",
       "    }\n",
       "</style>\n",
       "<table border=\"1\" class=\"dataframe\">\n",
       "  <thead>\n",
       "    <tr style=\"text-align: right;\">\n",
       "      <th></th>\n",
       "      <th>Name</th>\n",
       "      <th>Year</th>\n",
       "      <th>Rating</th>\n",
       "      <th>movie_name_fmt</th>\n",
       "      <th>movie_id_full</th>\n",
       "      <th>movie_id_short_is_official</th>\n",
       "      <th>movie_id_full_is_official</th>\n",
       "      <th>movie_id</th>\n",
       "    </tr>\n",
       "  </thead>\n",
       "  <tbody>\n",
       "  </tbody>\n",
       "</table>\n",
       "</div>"
      ],
      "text/plain": [
       "Empty DataFrame\n",
       "Columns: [Name, Year, Rating, movie_name_fmt, movie_id_full, movie_id_short_is_official, movie_id_full_is_official, movie_id]\n",
       "Index: []"
      ]
     },
     "execution_count": 9,
     "metadata": {},
     "output_type": "execute_result"
    }
   ],
   "source": [
    "unknown_movies = my_ratings.loc[np.logical_and(~my_ratings[\"movie_id_full_is_official\"], ~my_ratings[\"movie_id_short_is_official\"])]\n",
    "unknown_movies"
   ]
  },
  {
   "cell_type": "code",
   "execution_count": 10,
   "metadata": {},
   "outputs": [
    {
     "data": {
      "text/html": [
       "<div>\n",
       "<style scoped>\n",
       "    .dataframe tbody tr th:only-of-type {\n",
       "        vertical-align: middle;\n",
       "    }\n",
       "\n",
       "    .dataframe tbody tr th {\n",
       "        vertical-align: top;\n",
       "    }\n",
       "\n",
       "    .dataframe thead th {\n",
       "        text-align: right;\n",
       "    }\n",
       "</style>\n",
       "<table border=\"1\" class=\"dataframe\">\n",
       "  <thead>\n",
       "    <tr style=\"text-align: right;\">\n",
       "      <th></th>\n",
       "      <th>Rating</th>\n",
       "      <th>movie_id</th>\n",
       "    </tr>\n",
       "  </thead>\n",
       "  <tbody>\n",
       "    <tr>\n",
       "      <th>0</th>\n",
       "      <td>2.0</td>\n",
       "      <td>casablanca</td>\n",
       "    </tr>\n",
       "    <tr>\n",
       "      <th>1</th>\n",
       "      <td>4.0</td>\n",
       "      <td>the-godfather</td>\n",
       "    </tr>\n",
       "    <tr>\n",
       "      <th>2</th>\n",
       "      <td>7.0</td>\n",
       "      <td>citizen-kane</td>\n",
       "    </tr>\n",
       "    <tr>\n",
       "      <th>3</th>\n",
       "      <td>8.0</td>\n",
       "      <td>dawn-of-the-dead</td>\n",
       "    </tr>\n",
       "    <tr>\n",
       "      <th>4</th>\n",
       "      <td>10.0</td>\n",
       "      <td>king-kong</td>\n",
       "    </tr>\n",
       "  </tbody>\n",
       "</table>\n",
       "</div>"
      ],
      "text/plain": [
       "   Rating          movie_id\n",
       "0     2.0        casablanca\n",
       "1     4.0     the-godfather\n",
       "2     7.0      citizen-kane\n",
       "3     8.0  dawn-of-the-dead\n",
       "4    10.0         king-kong"
      ]
     },
     "execution_count": 10,
     "metadata": {},
     "output_type": "execute_result"
    }
   ],
   "source": [
    "my_ratings_clean = my_ratings.loc[~my_ratings[\"movie_id\"].isin(unknown_movies[\"movie_id\"])]\n",
    "my_ratings_clean = my_ratings_clean[[\"Rating\",\"movie_id\"]]\n",
    "my_ratings_clean"
   ]
  },
  {
   "cell_type": "markdown",
   "metadata": {},
   "source": [
    "## Remove useless data"
   ]
  },
  {
   "cell_type": "code",
   "execution_count": 11,
   "metadata": {},
   "outputs": [],
   "source": [
    "movies_with_enough_ratings = series_nb_ratings_by_movie[series_nb_ratings_by_movie>10].index\n",
    "users_with_enough_ratings = nb_movies_per_user[nb_movies_per_user>20].index\n",
    "ratings_popular = ratings.loc[np.logical_and(ratings[\"movie_id\"].isin(movies_with_enough_ratings), ratings[\"user_id\"].isin(users_with_enough_ratings))]"
   ]
  },
  {
   "cell_type": "code",
   "execution_count": 12,
   "metadata": {},
   "outputs": [],
   "source": [
    "del ratings"
   ]
  },
  {
   "cell_type": "code",
   "execution_count": 13,
   "metadata": {},
   "outputs": [],
   "source": [
    "ratings_popular = ratings_popular\n",
    "ratings_popular[\"rating_val\"] = ratings_popular[\"rating_val\"].astype(\"float\")\n",
    "mean_rating = ratings_popular.groupby(\"user_id\")[\"rating_val\"].mean()"
   ]
  },
  {
   "cell_type": "code",
   "execution_count": 14,
   "metadata": {},
   "outputs": [
    {
     "data": {
      "text/plain": [
       "([<matplotlib.axis.XTick at 0x221003d20d0>,\n",
       "  <matplotlib.axis.XTick at 0x221003d20a0>,\n",
       "  <matplotlib.axis.XTick at 0x221003d2e80>,\n",
       "  <matplotlib.axis.XTick at 0x221003e0520>,\n",
       "  <matplotlib.axis.XTick at 0x221003e0100>,\n",
       "  <matplotlib.axis.XTick at 0x221003e46d0>,\n",
       "  <matplotlib.axis.XTick at 0x221003cf8b0>,\n",
       "  <matplotlib.axis.XTick at 0x2210041de50>,\n",
       "  <matplotlib.axis.XTick at 0x221007bf940>,\n",
       "  <matplotlib.axis.XTick at 0x221007bf0d0>],\n",
       " [Text(1, 0, '1'),\n",
       "  Text(2, 0, '2'),\n",
       "  Text(3, 0, '3'),\n",
       "  Text(4, 0, '4'),\n",
       "  Text(5, 0, '5'),\n",
       "  Text(6, 0, '6'),\n",
       "  Text(7, 0, '7'),\n",
       "  Text(8, 0, '8'),\n",
       "  Text(9, 0, '9'),\n",
       "  Text(10, 0, '10')])"
      ]
     },
     "execution_count": 14,
     "metadata": {},
     "output_type": "execute_result"
    },
    {
     "data": {
      "image/png": "[encoded data removed]",
      "text/plain": [
       "<Figure size 640x480 with 1 Axes>"
      ]
     },
     "metadata": {},
     "output_type": "display_data"
    }
   ],
   "source": [
    "mean_rating.hist(bins=np.arange(1.5,11,1))\n",
    "plt.vlines(mean_rating.mean(), 0, np.max(np.unique(mean_rating.round(), return_counts=True)[1]), \"red\")\n",
    "plt.title(f\"Distribution of average rating for all users\\nRed=mean rating={mean_rating.mean():.2f}\")\n",
    "plt.xticks(list(range(1,11)))"
   ]
  },
  {
   "cell_type": "code",
   "execution_count": 15,
   "metadata": {},
   "outputs": [
    {
     "data": {
      "text/html": [
       "<div>\n",
       "<style scoped>\n",
       "    .dataframe tbody tr th:only-of-type {\n",
       "        vertical-align: middle;\n",
       "    }\n",
       "\n",
       "    .dataframe tbody tr th {\n",
       "        vertical-align: top;\n",
       "    }\n",
       "\n",
       "    .dataframe thead th {\n",
       "        text-align: right;\n",
       "    }\n",
       "</style>\n",
       "<table border=\"1\" class=\"dataframe\">\n",
       "  <thead>\n",
       "    <tr style=\"text-align: right;\">\n",
       "      <th></th>\n",
       "      <th>movie_id</th>\n",
       "      <th>rating_val</th>\n",
       "      <th>user_id</th>\n",
       "      <th>rating_val_user_mean</th>\n",
       "      <th>ratings_zero_mean</th>\n",
       "    </tr>\n",
       "  </thead>\n",
       "  <tbody>\n",
       "    <tr>\n",
       "      <th>0</th>\n",
       "      <td>feast-2014</td>\n",
       "      <td>7.0</td>\n",
       "      <td>deathproof</td>\n",
       "      <td>6.440671</td>\n",
       "      <td>0.559329</td>\n",
       "    </tr>\n",
       "    <tr>\n",
       "      <th>1</th>\n",
       "      <td>loving-2016</td>\n",
       "      <td>7.0</td>\n",
       "      <td>deathproof</td>\n",
       "      <td>6.440671</td>\n",
       "      <td>0.559329</td>\n",
       "    </tr>\n",
       "    <tr>\n",
       "      <th>2</th>\n",
       "      <td>scripted-content</td>\n",
       "      <td>7.0</td>\n",
       "      <td>deathproof</td>\n",
       "      <td>6.440671</td>\n",
       "      <td>0.559329</td>\n",
       "    </tr>\n",
       "    <tr>\n",
       "      <th>3</th>\n",
       "      <td>the-future</td>\n",
       "      <td>4.0</td>\n",
       "      <td>deathproof</td>\n",
       "      <td>6.440671</td>\n",
       "      <td>-2.440671</td>\n",
       "    </tr>\n",
       "    <tr>\n",
       "      <th>4</th>\n",
       "      <td>mank</td>\n",
       "      <td>5.0</td>\n",
       "      <td>deathproof</td>\n",
       "      <td>6.440671</td>\n",
       "      <td>-1.440671</td>\n",
       "    </tr>\n",
       "    <tr>\n",
       "      <th>...</th>\n",
       "      <td>...</td>\n",
       "      <td>...</td>\n",
       "      <td>...</td>\n",
       "      <td>...</td>\n",
       "      <td>...</td>\n",
       "    </tr>\n",
       "    <tr>\n",
       "      <th>11078162</th>\n",
       "      <td>alien-3</td>\n",
       "      <td>6.0</td>\n",
       "      <td>turnitip</td>\n",
       "      <td>6.271147</td>\n",
       "      <td>-0.271147</td>\n",
       "    </tr>\n",
       "    <tr>\n",
       "      <th>11078163</th>\n",
       "      <td>battleship-potemkin</td>\n",
       "      <td>7.0</td>\n",
       "      <td>turnitip</td>\n",
       "      <td>6.271147</td>\n",
       "      <td>0.728853</td>\n",
       "    </tr>\n",
       "    <tr>\n",
       "      <th>11078164</th>\n",
       "      <td>pusher</td>\n",
       "      <td>6.0</td>\n",
       "      <td>turnitip</td>\n",
       "      <td>6.271147</td>\n",
       "      <td>-0.271147</td>\n",
       "    </tr>\n",
       "    <tr>\n",
       "      <th>11078165</th>\n",
       "      <td>wild-strawberries</td>\n",
       "      <td>7.0</td>\n",
       "      <td>turnitip</td>\n",
       "      <td>6.271147</td>\n",
       "      <td>0.728853</td>\n",
       "    </tr>\n",
       "    <tr>\n",
       "      <th>11078166</th>\n",
       "      <td>x-2022</td>\n",
       "      <td>5.0</td>\n",
       "      <td>turnitip</td>\n",
       "      <td>6.271147</td>\n",
       "      <td>-1.271147</td>\n",
       "    </tr>\n",
       "  </tbody>\n",
       "</table>\n",
       "<p>10461930 rows × 5 columns</p>\n",
       "</div>"
      ],
      "text/plain": [
       "                     movie_id  rating_val     user_id  rating_val_user_mean  \\\n",
       "0                  feast-2014         7.0  deathproof              6.440671   \n",
       "1                 loving-2016         7.0  deathproof              6.440671   \n",
       "2            scripted-content         7.0  deathproof              6.440671   \n",
       "3                  the-future         4.0  deathproof              6.440671   \n",
       "4                        mank         5.0  deathproof              6.440671   \n",
       "...                       ...         ...         ...                   ...   \n",
       "11078162              alien-3         6.0    turnitip              6.271147   \n",
       "11078163  battleship-potemkin         7.0    turnitip              6.271147   \n",
       "11078164               pusher         6.0    turnitip              6.271147   \n",
       "11078165    wild-strawberries         7.0    turnitip              6.271147   \n",
       "11078166               x-2022         5.0    turnitip              6.271147   \n",
       "\n",
       "          ratings_zero_mean  \n",
       "0                  0.559329  \n",
       "1                  0.559329  \n",
       "2                  0.559329  \n",
       "3                 -2.440671  \n",
       "4                 -1.440671  \n",
       "...                     ...  \n",
       "11078162          -0.271147  \n",
       "11078163           0.728853  \n",
       "11078164          -0.271147  \n",
       "11078165           0.728853  \n",
       "11078166          -1.271147  \n",
       "\n",
       "[10461930 rows x 5 columns]"
      ]
     },
     "execution_count": 15,
     "metadata": {},
     "output_type": "execute_result"
    }
   ],
   "source": [
    "ratings_popular = pd.merge(ratings_popular,mean_rating, left_on=\"user_id\", right_index=True, suffixes=[\"\",\"_user_mean\"])\n",
    "ratings_popular[\"ratings_zero_mean\"] = ratings_popular[\"rating_val\"] - ratings_popular[\"rating_val_user_mean\"]\n",
    "# ratings_popular[\"ratings_zero_mean\"] = ratings_popular[\"ratings_zero_mean\"].astype(np.float32)\n",
    "ratings_popular"
   ]
  },
  {
   "cell_type": "markdown",
   "metadata": {},
   "source": [
    "## Store data as movie-user sparse table"
   ]
  },
  {
   "cell_type": "code",
   "execution_count": 16,
   "metadata": {},
   "outputs": [],
   "source": [
    "# adapted from https://stackoverflow.com/a/31679396\n",
    "\n",
    "from scipy.sparse import csr_matrix\n",
    "from pandas.api.types import CategoricalDtype\n",
    "\n",
    "movie_id_u = list(sorted(ratings_popular.movie_id.unique()))\n",
    "user_id_u = list(sorted(ratings_popular.user_id.unique()))\n",
    "\n",
    "# data = ratings_popular['ratings_zero_mean'].tolist()\n",
    "data = ratings_popular['rating_val'].tolist()\n",
    "cat_type_movie = CategoricalDtype(categories=movie_id_u, ordered=True)\n",
    "cat_type_user = CategoricalDtype(categories=user_id_u, ordered=True)\n",
    "row = ratings_popular.movie_id.astype(cat_type_movie).cat.codes\n",
    "col = ratings_popular.user_id.astype(cat_type_user).cat.codes\n",
    "sparse_matrix = csr_matrix((data, (row, col)), shape=(len(movie_id_u), len(user_id_u)), dtype=np.float32)"
   ]
  },
  {
   "cell_type": "code",
   "execution_count": 17,
   "metadata": {},
   "outputs": [],
   "source": [
    "del data\n",
    "del col\n",
    "del row"
   ]
  },
  {
   "cell_type": "code",
   "execution_count": 18,
   "metadata": {},
   "outputs": [],
   "source": [
    "movie_user_table = pd.DataFrame.sparse.from_spmatrix(sparse_matrix, index=movie_id_u, columns=user_id_u, )\n",
    "\n",
    "movie_user_table[\"placeholder_username\"] = pd.Series(my_ratings_clean[\"Rating\"].values, index=my_ratings_clean[\"movie_id\"])\n",
    "movie_user_table = movie_user_table.astype(pd.SparseDtype(np.float32, fill_value=np.nan))\n",
    "movie_user_table_zero_mean = movie_user_table - movie_user_table.mean(axis=0)"
   ]
  },
  {
   "cell_type": "markdown",
   "metadata": {},
   "source": [
    "## Compute similarity with you"
   ]
  },
  {
   "cell_type": "code",
   "execution_count": 19,
   "metadata": {},
   "outputs": [],
   "source": [
    "def norm(A):\n",
    "    return np.sqrt(np.sum(A**2,axis=0))\n",
    "\n",
    "norm_product = norm(movie_user_table_zero_mean[\"placeholder_username\"]) * (norm(movie_user_table_zero_mean))"
   ]
  },
  {
   "cell_type": "code",
   "execution_count": 20,
   "metadata": {},
   "outputs": [
    {
     "data": {
      "text/html": [
       "<div>\n",
       "<style scoped>\n",
       "    .dataframe tbody tr th:only-of-type {\n",
       "        vertical-align: middle;\n",
       "    }\n",
       "\n",
       "    .dataframe tbody tr th {\n",
       "        vertical-align: top;\n",
       "    }\n",
       "\n",
       "    .dataframe thead th {\n",
       "        text-align: right;\n",
       "    }\n",
       "</style>\n",
       "<table border=\"1\" class=\"dataframe\">\n",
       "  <thead>\n",
       "    <tr style=\"text-align: right;\">\n",
       "      <th></th>\n",
       "      <th>movie_id</th>\n",
       "      <th>rating_val</th>\n",
       "      <th>user_id</th>\n",
       "      <th>rating_val_user_mean</th>\n",
       "      <th>ratings_zero_mean</th>\n",
       "    </tr>\n",
       "  </thead>\n",
       "  <tbody>\n",
       "    <tr>\n",
       "      <th>0</th>\n",
       "      <td>feast-2014</td>\n",
       "      <td>7.0</td>\n",
       "      <td>deathproof</td>\n",
       "      <td>6.440671</td>\n",
       "      <td>0.559329</td>\n",
       "    </tr>\n",
       "    <tr>\n",
       "      <th>1</th>\n",
       "      <td>loving-2016</td>\n",
       "      <td>7.0</td>\n",
       "      <td>deathproof</td>\n",
       "      <td>6.440671</td>\n",
       "      <td>0.559329</td>\n",
       "    </tr>\n",
       "    <tr>\n",
       "      <th>2</th>\n",
       "      <td>scripted-content</td>\n",
       "      <td>7.0</td>\n",
       "      <td>deathproof</td>\n",
       "      <td>6.440671</td>\n",
       "      <td>0.559329</td>\n",
       "    </tr>\n",
       "    <tr>\n",
       "      <th>3</th>\n",
       "      <td>the-future</td>\n",
       "      <td>4.0</td>\n",
       "      <td>deathproof</td>\n",
       "      <td>6.440671</td>\n",
       "      <td>-2.440671</td>\n",
       "    </tr>\n",
       "    <tr>\n",
       "      <th>4</th>\n",
       "      <td>mank</td>\n",
       "      <td>5.0</td>\n",
       "      <td>deathproof</td>\n",
       "      <td>6.440671</td>\n",
       "      <td>-1.440671</td>\n",
       "    </tr>\n",
       "    <tr>\n",
       "      <th>...</th>\n",
       "      <td>...</td>\n",
       "      <td>...</td>\n",
       "      <td>...</td>\n",
       "      <td>...</td>\n",
       "      <td>...</td>\n",
       "    </tr>\n",
       "    <tr>\n",
       "      <th>11078162</th>\n",
       "      <td>alien-3</td>\n",
       "      <td>6.0</td>\n",
       "      <td>turnitip</td>\n",
       "      <td>6.271147</td>\n",
       "      <td>-0.271147</td>\n",
       "    </tr>\n",
       "    <tr>\n",
       "      <th>11078163</th>\n",
       "      <td>battleship-potemkin</td>\n",
       "      <td>7.0</td>\n",
       "      <td>turnitip</td>\n",
       "      <td>6.271147</td>\n",
       "      <td>0.728853</td>\n",
       "    </tr>\n",
       "    <tr>\n",
       "      <th>11078164</th>\n",
       "      <td>pusher</td>\n",
       "      <td>6.0</td>\n",
       "      <td>turnitip</td>\n",
       "      <td>6.271147</td>\n",
       "      <td>-0.271147</td>\n",
       "    </tr>\n",
       "    <tr>\n",
       "      <th>11078165</th>\n",
       "      <td>wild-strawberries</td>\n",
       "      <td>7.0</td>\n",
       "      <td>turnitip</td>\n",
       "      <td>6.271147</td>\n",
       "      <td>0.728853</td>\n",
       "    </tr>\n",
       "    <tr>\n",
       "      <th>11078166</th>\n",
       "      <td>x-2022</td>\n",
       "      <td>5.0</td>\n",
       "      <td>turnitip</td>\n",
       "      <td>6.271147</td>\n",
       "      <td>-1.271147</td>\n",
       "    </tr>\n",
       "  </tbody>\n",
       "</table>\n",
       "<p>10461930 rows × 5 columns</p>\n",
       "</div>"
      ],
      "text/plain": [
       "                     movie_id  rating_val     user_id  rating_val_user_mean  \\\n",
       "0                  feast-2014         7.0  deathproof              6.440671   \n",
       "1                 loving-2016         7.0  deathproof              6.440671   \n",
       "2            scripted-content         7.0  deathproof              6.440671   \n",
       "3                  the-future         4.0  deathproof              6.440671   \n",
       "4                        mank         5.0  deathproof              6.440671   \n",
       "...                       ...         ...         ...                   ...   \n",
       "11078162              alien-3         6.0    turnitip              6.271147   \n",
       "11078163  battleship-potemkin         7.0    turnitip              6.271147   \n",
       "11078164               pusher         6.0    turnitip              6.271147   \n",
       "11078165    wild-strawberries         7.0    turnitip              6.271147   \n",
       "11078166               x-2022         5.0    turnitip              6.271147   \n",
       "\n",
       "          ratings_zero_mean  \n",
       "0                  0.559329  \n",
       "1                  0.559329  \n",
       "2                  0.559329  \n",
       "3                 -2.440671  \n",
       "4                 -1.440671  \n",
       "...                     ...  \n",
       "11078162          -0.271147  \n",
       "11078163           0.728853  \n",
       "11078164          -0.271147  \n",
       "11078165           0.728853  \n",
       "11078166          -1.271147  \n",
       "\n",
       "[10461930 rows x 5 columns]"
      ]
     },
     "execution_count": 20,
     "metadata": {},
     "output_type": "execute_result"
    }
   ],
   "source": [
    "ratings_popular"
   ]
  },
  {
   "cell_type": "code",
   "execution_count": 21,
   "metadata": {},
   "outputs": [],
   "source": [
    "dot_product = movie_user_table_zero_mean[\"placeholder_username\"].fillna(0.).dot(movie_user_table_zero_mean.fillna(0.))"
   ]
  },
  {
   "cell_type": "code",
   "execution_count": 22,
   "metadata": {},
   "outputs": [],
   "source": [
    "del movie_user_table_zero_mean"
   ]
  },
  {
   "cell_type": "code",
   "execution_count": 23,
   "metadata": {},
   "outputs": [
    {
     "data": {
      "text/plain": [
       "ssens                 0\n",
       "sleevelesssocks       1\n",
       "kittophoenix          2\n",
       "hokandil              3\n",
       "miriamblaylocks       4\n",
       "                   ... \n",
       "othavio232         7281\n",
       "planetclaires      7293\n",
       "unclenugget        7279\n",
       "wyattduncan        7285\n",
       "xico5689           7294\n",
       "Length: 7295, dtype: int64"
      ]
     },
     "execution_count": 23,
     "metadata": {},
     "output_type": "execute_result"
    }
   ],
   "source": [
    "similarities = ((1+dot_product / norm_product.astype(np.float32))/2).astype(np.float32)\n",
    "similarities.drop(\"placeholder_username\", inplace=True)\n",
    "similarities.sort_values(ascending=False, inplace=True)\n",
    "similarities.fillna(0., inplace=True)\n",
    "\n",
    "dissimilarities = 1 - similarities\n",
    "similarity_rank = dissimilarities.argsort()\n",
    "similarity_rank"
   ]
  },
  {
   "cell_type": "markdown",
   "metadata": {},
   "source": [
    "## Rank users by similarity in rating database"
   ]
  },
  {
   "cell_type": "code",
   "execution_count": 24,
   "metadata": {},
   "outputs": [],
   "source": [
    "user_movie_table = movie_user_table.T"
   ]
  },
  {
   "cell_type": "code",
   "execution_count": 25,
   "metadata": {},
   "outputs": [
    {
     "data": {
      "text/html": [
       "<div>\n",
       "<style scoped>\n",
       "    .dataframe tbody tr th:only-of-type {\n",
       "        vertical-align: middle;\n",
       "    }\n",
       "\n",
       "    .dataframe tbody tr th {\n",
       "        vertical-align: top;\n",
       "    }\n",
       "\n",
       "    .dataframe thead th {\n",
       "        text-align: right;\n",
       "    }\n",
       "</style>\n",
       "<table border=\"1\" class=\"dataframe\">\n",
       "  <thead>\n",
       "    <tr style=\"text-align: right;\">\n",
       "      <th></th>\n",
       "      <th></th>\n",
       "      <th>rating</th>\n",
       "    </tr>\n",
       "    <tr>\n",
       "      <th>movie_id</th>\n",
       "      <th>user_id</th>\n",
       "      <th></th>\n",
       "    </tr>\n",
       "  </thead>\n",
       "  <tbody>\n",
       "    <tr>\n",
       "      <th rowspan=\"5\" valign=\"top\">00-08</th>\n",
       "      <th>rovhul</th>\n",
       "      <td>5.0</td>\n",
       "    </tr>\n",
       "    <tr>\n",
       "      <th>benpatten02</th>\n",
       "      <td>6.0</td>\n",
       "    </tr>\n",
       "    <tr>\n",
       "      <th>akabsb</th>\n",
       "      <td>4.0</td>\n",
       "    </tr>\n",
       "    <tr>\n",
       "      <th>selaserviette</th>\n",
       "      <td>9.0</td>\n",
       "    </tr>\n",
       "    <tr>\n",
       "      <th>shikhar</th>\n",
       "      <td>5.0</td>\n",
       "    </tr>\n",
       "    <tr>\n",
       "      <th>...</th>\n",
       "      <th>...</th>\n",
       "      <td>...</td>\n",
       "    </tr>\n",
       "    <tr>\n",
       "      <th rowspan=\"5\" valign=\"top\">zz-top-that-little-ol-band-from-texas</th>\n",
       "      <th>arnoldfurious</th>\n",
       "      <td>8.0</td>\n",
       "    </tr>\n",
       "    <tr>\n",
       "      <th>calum</th>\n",
       "      <td>6.0</td>\n",
       "    </tr>\n",
       "    <tr>\n",
       "      <th>ddarko42</th>\n",
       "      <td>8.0</td>\n",
       "    </tr>\n",
       "    <tr>\n",
       "      <th>davidraider88</th>\n",
       "      <td>6.0</td>\n",
       "    </tr>\n",
       "    <tr>\n",
       "      <th>onemarathon</th>\n",
       "      <td>8.0</td>\n",
       "    </tr>\n",
       "  </tbody>\n",
       "</table>\n",
       "<p>10461930 rows × 1 columns</p>\n",
       "</div>"
      ],
      "text/plain": [
       "                                                     rating\n",
       "movie_id                              user_id              \n",
       "00-08                                 rovhul            5.0\n",
       "                                      benpatten02       6.0\n",
       "                                      akabsb            4.0\n",
       "                                      selaserviette     9.0\n",
       "                                      shikhar           5.0\n",
       "...                                                     ...\n",
       "zz-top-that-little-ol-band-from-texas arnoldfurious     8.0\n",
       "                                      calum             6.0\n",
       "                                      ddarko42          8.0\n",
       "                                      davidraider88     6.0\n",
       "                                      onemarathon       8.0\n",
       "\n",
       "[10461930 rows x 1 columns]"
      ]
     },
     "execution_count": 25,
     "metadata": {},
     "output_type": "execute_result"
    }
   ],
   "source": [
    "ratings_popular_sorted=pd.DataFrame(data=ratings_popular[\"rating_val\"].values, index=pd.MultiIndex.from_frame(ratings_popular[[\"movie_id\",\"user_id\"]])).rename(columns={0:\"rating\"})\n",
    "\n",
    "def sorter(s):\n",
    "    if s.name == \"user_id\":\n",
    "        return s.map({k:similarity_rank[k] for k in s})\n",
    "    return s\n",
    "\n",
    "ratings_popular_sorted.sort_index(key=sorter, inplace=True)\n",
    "ratings_popular_sorted"
   ]
  },
  {
   "cell_type": "markdown",
   "metadata": {},
   "source": [
    "## For every movie extract close users only"
   ]
  },
  {
   "cell_type": "code",
   "execution_count": 26,
   "metadata": {},
   "outputs": [],
   "source": [
    "nb_similar_users = 20\n",
    "\n",
    "movies_list = ratings_popular_sorted.index.get_level_values(0)\n",
    "similar_users_per_movie = {movie:[] for movie in set(movies_list)}\n",
    "for idx, movie in enumerate(movies_list) :\n",
    "    if len(similar_users_per_movie[movie]) < nb_similar_users:\n",
    "        similar_users_per_movie[movie].append(idx)\n",
    "\n",
    "index_sim_users_per_movie = []\n",
    "for idx in similar_users_per_movie.values() :\n",
    "    index_sim_users_per_movie += idx"
   ]
  },
  {
   "cell_type": "code",
   "execution_count": 27,
   "metadata": {},
   "outputs": [],
   "source": [
    "ratings_popular_close_users = ratings_popular_sorted.iloc[index_sim_users_per_movie].sort_index(key=sorter)"
   ]
  },
  {
   "cell_type": "markdown",
   "metadata": {},
   "source": [
    "## Simple avearge"
   ]
  },
  {
   "cell_type": "code",
   "execution_count": 28,
   "metadata": {},
   "outputs": [
    {
     "data": {
      "text/html": [
       "<div>\n",
       "<style scoped>\n",
       "    .dataframe tbody tr th:only-of-type {\n",
       "        vertical-align: middle;\n",
       "    }\n",
       "\n",
       "    .dataframe tbody tr th {\n",
       "        vertical-align: top;\n",
       "    }\n",
       "\n",
       "    .dataframe thead th {\n",
       "        text-align: right;\n",
       "    }\n",
       "</style>\n",
       "<table border=\"1\" class=\"dataframe\">\n",
       "  <thead>\n",
       "    <tr style=\"text-align: right;\">\n",
       "      <th></th>\n",
       "      <th>rating</th>\n",
       "    </tr>\n",
       "  </thead>\n",
       "  <tbody>\n",
       "    <tr>\n",
       "      <th>Parasite 2019</th>\n",
       "      <td>4.825/5</td>\n",
       "    </tr>\n",
       "    <tr>\n",
       "      <th>The lord of the rings collection</th>\n",
       "      <td>4.800/5</td>\n",
       "    </tr>\n",
       "    <tr>\n",
       "      <th>Mr robot decoded</th>\n",
       "      <td>4.775/5</td>\n",
       "    </tr>\n",
       "    <tr>\n",
       "      <th>Compasso de espera</th>\n",
       "      <td>4.769/5</td>\n",
       "    </tr>\n",
       "    <tr>\n",
       "      <th>Cosmos a personal voyage</th>\n",
       "      <td>4.750/5</td>\n",
       "    </tr>\n",
       "    <tr>\n",
       "      <th>National theatre live present laughter</th>\n",
       "      <td>4.750/5</td>\n",
       "    </tr>\n",
       "    <tr>\n",
       "      <th>Queen live at wembley stadium</th>\n",
       "      <td>4.725/5</td>\n",
       "    </tr>\n",
       "    <tr>\n",
       "      <th>My mister</th>\n",
       "      <td>4.722/5</td>\n",
       "    </tr>\n",
       "    <tr>\n",
       "      <th>How to with john wilson</th>\n",
       "      <td>4.711/5</td>\n",
       "    </tr>\n",
       "    <tr>\n",
       "      <th>Beyonce self titled</th>\n",
       "      <td>4.708/5</td>\n",
       "    </tr>\n",
       "    <tr>\n",
       "      <th>The human condition</th>\n",
       "      <td>4.700/5</td>\n",
       "    </tr>\n",
       "    <tr>\n",
       "      <th>Les miserables 10th anniversary concert at the royal albert hall</th>\n",
       "      <td>4.700/5</td>\n",
       "    </tr>\n",
       "    <tr>\n",
       "      <th>Blackpink the show</th>\n",
       "      <td>4.692/5</td>\n",
       "    </tr>\n",
       "    <tr>\n",
       "      <th>Aew all out</th>\n",
       "      <td>4.692/5</td>\n",
       "    </tr>\n",
       "    <tr>\n",
       "      <th>Three colors trilogy 1</th>\n",
       "      <td>4.650/5</td>\n",
       "    </tr>\n",
       "    <tr>\n",
       "      <th>The before collection</th>\n",
       "      <td>4.650/5</td>\n",
       "    </tr>\n",
       "    <tr>\n",
       "      <th>Band of brothers</th>\n",
       "      <td>4.650/5</td>\n",
       "    </tr>\n",
       "    <tr>\n",
       "      <th>Three colors trilogy</th>\n",
       "      <td>4.650/5</td>\n",
       "    </tr>\n",
       "    <tr>\n",
       "      <th>Dekalog</th>\n",
       "      <td>4.650/5</td>\n",
       "    </tr>\n",
       "    <tr>\n",
       "      <th>Playback time</th>\n",
       "      <td>4.643/5</td>\n",
       "    </tr>\n",
       "    <tr>\n",
       "      <th>The 7th annual live on cinema oscar special</th>\n",
       "      <td>4.625/5</td>\n",
       "    </tr>\n",
       "    <tr>\n",
       "      <th>As i was moving ahead occasionally i saw brief glimpses of beauty</th>\n",
       "      <td>4.625/5</td>\n",
       "    </tr>\n",
       "    <tr>\n",
       "      <th>Trailer trauma 3 80s horror thon</th>\n",
       "      <td>4.625/5</td>\n",
       "    </tr>\n",
       "    <tr>\n",
       "      <th>My chemical romance the black parade is dead</th>\n",
       "      <td>4.625/5</td>\n",
       "    </tr>\n",
       "    <tr>\n",
       "      <th>Cowboy bebop</th>\n",
       "      <td>4.625/5</td>\n",
       "    </tr>\n",
       "  </tbody>\n",
       "</table>\n",
       "</div>"
      ],
      "text/plain": [
       "                                                     rating\n",
       "Parasite 2019                                       4.825/5\n",
       "The lord of the rings collection                    4.800/5\n",
       "Mr robot decoded                                    4.775/5\n",
       "Compasso de espera                                  4.769/5\n",
       "Cosmos a personal voyage                            4.750/5\n",
       "National theatre live present laughter              4.750/5\n",
       "Queen live at wembley stadium                       4.725/5\n",
       "My mister                                           4.722/5\n",
       "How to with john wilson                             4.711/5\n",
       "Beyonce self titled                                 4.708/5\n",
       "The human condition                                 4.700/5\n",
       "Les miserables 10th anniversary concert at the ...  4.700/5\n",
       "Blackpink the show                                  4.692/5\n",
       "Aew all out                                         4.692/5\n",
       "Three colors trilogy 1                              4.650/5\n",
       "The before collection                               4.650/5\n",
       "Band of brothers                                    4.650/5\n",
       "Three colors trilogy                                4.650/5\n",
       "Dekalog                                             4.650/5\n",
       "Playback time                                       4.643/5\n",
       "The 7th annual live on cinema oscar special         4.625/5\n",
       "As i was moving ahead occasionally i saw brief ...  4.625/5\n",
       "Trailer trauma 3 80s horror thon                    4.625/5\n",
       "My chemical romance the black parade is dead        4.625/5\n",
       "Cowboy bebop                                        4.625/5"
      ]
     },
     "execution_count": 28,
     "metadata": {},
     "output_type": "execute_result"
    }
   ],
   "source": [
    "final_predictions = ratings_popular_close_users.groupby(\"movie_id\").mean().sort_values(\"rating\", ascending=False)\n",
    "seen_movies = my_ratings_clean[\"movie_id\"]\n",
    "final_predictions = final_predictions.filter(items=[movie for movie in final_predictions.index if movie not in seen_movies.values], axis=0)\n",
    "final_predictions.index = final_predictions.index.map(lambda x : x.replace(\"-\",\" \").capitalize())\n",
    "final_predictions[\"rating\"] = final_predictions[\"rating\"].apply(lambda x : f'{x/2:.3f}/5')\n",
    "final_predictions.iloc[:25]"
   ]
  }
 ],
 "metadata": {
  "kernelspec": {
   "display_name": "venv",
   "language": "python",
   "name": "python3"
  },
  "language_info": {
   "codemirror_mode": {
    "name": "ipython",
    "version": 3
   },
   "file_extension": ".py",
   "mimetype": "text/x-python",
   "name": "python",
   "nbconvert_exporter": "python",
   "pygments_lexer": "ipython3",
   "version": "3.9.13"
  }
 },
 "nbformat": 4,
 "nbformat_minor": 2
}
